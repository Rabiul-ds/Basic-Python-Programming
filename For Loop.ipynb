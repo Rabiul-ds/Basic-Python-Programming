{
 "cells": [
  {
   "cell_type": "markdown",
   "id": "5ceaa741-4694-4362-848b-31a4f0f825c2",
   "metadata": {
    "jp-MarkdownHeadingCollapsed": true
   },
   "source": [
    "## Write a program that prints the first `n` natural numbers."
   ]
  },
  {
   "cell_type": "code",
   "execution_count": null,
   "id": "2d8a063d-63a9-4e60-9ddf-82a8f90575cd",
   "metadata": {},
   "outputs": [],
   "source": [
    "number=int(input(\"Enter a number\"))\n",
    "for i in range (1, number+1):\n",
    "    print(i)"
   ]
  },
  {
   "cell_type": "markdown",
   "id": "f42e2599-80dd-4792-8209-9a47eda838f8",
   "metadata": {
    "jp-MarkdownHeadingCollapsed": true
   },
   "source": [
    "## Write a program that calculates the factorial of a number."
   ]
  },
  {
   "cell_type": "code",
   "execution_count": null,
   "id": "93e8699b-de4a-48e6-82d9-7f276c9bda43",
   "metadata": {},
   "outputs": [],
   "source": [
    "number=int(input('Enter a number'))\n",
    "facto=1\n",
    "for i in range (1, number + 1):\n",
    "    facto = facto*i\n",
    "print (facto)"
   ]
  },
  {
   "cell_type": "markdown",
   "id": "5e0253bf-6bf9-413b-83fb-966ae088d641",
   "metadata": {
    "jp-MarkdownHeadingCollapsed": true
   },
   "source": [
    "## Write a program that generates a Fibonacci sequence of length `n`."
   ]
  },
  {
   "cell_type": "code",
   "execution_count": null,
   "id": "3bd4e1b1-ff20-498c-b4e8-35c29af17887",
   "metadata": {
    "scrolled": true
   },
   "outputs": [],
   "source": [
    "number=int(input('Enter a number= '))\n",
    "num_0=0\n",
    "num_1=1\n",
    "print(num_0)\n",
    "print(num_1)\n",
    "for i in range (2, number+1):\n",
    "    nnext=num_0+num_1\n",
    "    num_0=num_1\n",
    "    num_1=nnext\n",
    "    print(num_1)"
   ]
  },
  {
   "cell_type": "markdown",
   "id": "945f6dd2-a4a9-4be0-aed3-7158742eae86",
   "metadata": {
    "jp-MarkdownHeadingCollapsed": true
   },
   "source": [
    "## Write a program that checks if a given number is prime or not."
   ]
  },
  {
   "cell_type": "code",
   "execution_count": null,
   "id": "dae233cb-5239-4e3f-b505-66e75619d36d",
   "metadata": {},
   "outputs": [],
   "source": [
    "num=int(input('Enter a number: '))\n",
    "count=0\n",
    "for i in range(2, num):\n",
    "    while num % i == 0:\n",
    "        count=count+1\n",
    "        break\n",
    "if count==0:\n",
    "    print('Prime')\n",
    "else:\n",
    "    print('NOT Prime')"
   ]
  },
  {
   "cell_type": "markdown",
   "id": "151ad8e1-2417-4fe5-9346-9b9ad68432f1",
   "metadata": {
    "jp-MarkdownHeadingCollapsed": true
   },
   "source": [
    "## Write a program that prints the multiplication table of a given number."
   ]
  },
  {
   "cell_type": "code",
   "execution_count": null,
   "id": "632f353c-378b-4010-a3d9-426c001e0f90",
   "metadata": {},
   "outputs": [],
   "source": [
    "num = int(input('Enter a number: '))\n",
    "for i in range (1, 11):\n",
    "    print(i,'x', num ,'=', i*num)"
   ]
  }
 ],
 "metadata": {
  "kernelspec": {
   "display_name": "Python 3 (ipykernel)",
   "language": "python",
   "name": "python3"
  },
  "language_info": {
   "codemirror_mode": {
    "name": "ipython",
    "version": 3
   },
   "file_extension": ".py",
   "mimetype": "text/x-python",
   "name": "python",
   "nbconvert_exporter": "python",
   "pygments_lexer": "ipython3",
   "version": "3.12.5"
  }
 },
 "nbformat": 4,
 "nbformat_minor": 5
}
