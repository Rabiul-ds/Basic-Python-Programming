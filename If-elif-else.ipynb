{
 "cells": [
  {
   "cell_type": "markdown",
   "id": "3dae18c6-e195-48ab-a53a-ac8b426ab4f2",
   "metadata": {},
   "source": [
    "## Write a program that determines if a number is even or odd."
   ]
  },
  {
   "cell_type": "code",
   "execution_count": null,
   "id": "6d9ad6a6-08b6-46f2-999f-90ea4ff9d597",
   "metadata": {},
   "outputs": [],
   "source": [
    "number=int(input('input a valid number='))\n",
    "if number%2==0:\n",
    "    print(number,\" is an even number\")\n",
    "else:\n",
    "    print(number, \" is an odd number\")"
   ]
  },
  {
   "cell_type": "markdown",
   "id": "dbef6f3e-ce6d-4ec2-a36c-4a9d1160850b",
   "metadata": {},
   "source": [
    "## Write a program that finds the maximum of three numbers."
   ]
  },
  {
   "cell_type": "code",
   "execution_count": null,
   "id": "a95e96ac-e6c0-4c00-b5ab-642fe75d787e",
   "metadata": {},
   "outputs": [],
   "source": [
    "num_1=int(input('input 1st number=' ))\n",
    "num_2=int(input('input 2nd number=' ))\n",
    "num_3=int(input('input 3st number=' ))\n",
    "\n",
    "#finding the maximum number\n",
    "\n",
    "if num_1>num_2>num_3:\n",
    "    print('The maximum number is 1st:', num_1)\n",
    "elif num_1>num_3>num_2:\n",
    "    print('The maximum number is 1st:', num_1)\n",
    "    \n",
    "elif num_2>num_1>num_3:\n",
    "    print('The maximum number is 2nd:', num_2)\n",
    "elif num_2>num_3>num_1:\n",
    "    print('The maximum number is 2nd:', num_2)\n",
    "    \n",
    "elif num_3>num_2>num_1:\n",
    "    print('The maximum number is 3rd:', num_3)\n",
    "else:\n",
    "    print('The maximum number is 3rd:', num_3)\n",
    "    "
   ]
  },
  {
   "cell_type": "markdown",
   "id": "8ee29ae6-ef66-40a1-8a5d-0f7639083dee",
   "metadata": {},
   "source": [
    "## Write a program that determines if a year is a leap year or not."
   ]
  },
  {
   "cell_type": "code",
   "execution_count": null,
   "id": "4b681410-7ff7-470d-8816-11d205694b55",
   "metadata": {},
   "outputs": [],
   "source": [
    "year = int(input('Enter a year: '))\n",
    "\n",
    "if year % 4==0:\n",
    "    if year % 100==0:\n",
    "        if year % 400 == 0:\n",
    "            print(year,' is a leap year')\n",
    "        else:\n",
    "            print(year,' is not a leap year')\n",
    "    else:\n",
    "        print(year,' is a leap year')\n",
    "else:\n",
    "    print(year,' is not a leap year')\n",
    "    \n",
    "        \n",
    "            "
   ]
  },
  {
   "cell_type": "markdown",
   "id": "953edae0-6cc2-41ea-aff1-a43e86ec5d0a",
   "metadata": {},
   "source": [
    "## Write a program that determines if a number is positive, negative, or zero."
   ]
  },
  {
   "cell_type": "code",
   "execution_count": null,
   "id": "e9af4f16-5ac1-4471-b00d-6d753b5137c0",
   "metadata": {},
   "outputs": [],
   "source": [
    "num=int(input('input 1st number=' ))\n",
    "if num>0:\n",
    "    print('positive')\n",
    "elif num<0:\n",
    "    print('Negative')\n",
    "else:\n",
    "    print('Zero')"
   ]
  },
  {
   "cell_type": "markdown",
   "id": "a31ce174-0bfb-4295-9aef-6281f36db554",
   "metadata": {},
   "source": [
    "## Write a program that calculates the grade based on a given percentage."
   ]
  },
  {
   "cell_type": "code",
   "execution_count": null,
   "id": "45654b37-0d10-484b-b0c7-b7554c33d97a",
   "metadata": {},
   "outputs": [],
   "source": [
    "grade=int(input('Enter your Grade=' ))\n",
    "if grade<55:\n",
    "    print('F')\n",
    "elif grade>=55 and grade<=59:\n",
    "    print('D')\n",
    "elif grade>=60 and grade<=65:\n",
    "    print('C')\n",
    "elif grade>=66 and grade<=70:\n",
    "    print('C+')\n",
    "elif grade>=71 and grade<=75:\n",
    "    print('B')\n",
    "elif grade>=76 and grade<=80:\n",
    "    print('B+')\n",
    "elif grade>=81 and grade<=85:\n",
    "    print('A-')\n",
    "elif grade>=86 and grade<=90:\n",
    "    print('A')\n",
    "else:\n",
    "    print('A+')"
   ]
  }
 ],
 "metadata": {
  "kernelspec": {
   "display_name": "Python 3 (ipykernel)",
   "language": "python",
   "name": "python3"
  },
  "language_info": {
   "codemirror_mode": {
    "name": "ipython",
    "version": 3
   },
   "file_extension": ".py",
   "mimetype": "text/x-python",
   "name": "python",
   "nbconvert_exporter": "python",
   "pygments_lexer": "ipython3",
   "version": "3.12.5"
  }
 },
 "nbformat": 4,
 "nbformat_minor": 5
}
