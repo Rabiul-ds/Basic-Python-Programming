{
 "cells": [
  {
   "cell_type": "markdown",
   "id": "9575b5b6-39e4-4c1e-9c1f-917762bf8e73",
   "metadata": {
    "jp-MarkdownHeadingCollapsed": true
   },
   "source": [
    "## Write a program that swaps the values of two variables."
   ]
  },
  {
   "cell_type": "code",
   "execution_count": 1,
   "id": "b5896c56-7af3-4169-a53a-0643a428bef6",
   "metadata": {},
   "outputs": [
    {
     "name": "stdin",
     "output_type": "stream",
     "text": [
      "Value of x= 10\n",
      "Value of y= 20\n"
     ]
    },
    {
     "name": "stdout",
     "output_type": "stream",
     "text": [
      "x= 20\n",
      "y= 10\n"
     ]
    }
   ],
   "source": [
    "x = int(input('Value of x=' ))\n",
    "y= int(input('Value of y=' ))\n",
    "\n",
    "x, y = y, x\n",
    "\n",
    "print('x=', x)\n",
    "print('y=', y)"
   ]
  },
  {
   "cell_type": "markdown",
   "id": "bf4a0322-94d3-4333-a1cf-97e1385c639b",
   "metadata": {
    "jp-MarkdownHeadingCollapsed": true
   },
   "source": [
    "## Write a program that calculates the area of a rectangle given its length and width."
   ]
  },
  {
   "cell_type": "code",
   "execution_count": 2,
   "id": "639c8763-f16a-4006-8053-0d9e46386a2f",
   "metadata": {},
   "outputs": [
    {
     "name": "stdin",
     "output_type": "stream",
     "text": [
      "Input the value of lenght, foot= 30\n",
      "Input the value of weidth, foot= 50\n"
     ]
    },
    {
     "name": "stdout",
     "output_type": "stream",
     "text": [
      "Area of the rectangle is: 1500 SQF.\n"
     ]
    }
   ],
   "source": [
    "lenght= int(input('Input the value of lenght, foot=' ))\n",
    "width= int(input('Input the value of weidth, foot=' ))\n",
    "\n",
    "#area of the rectangle\n",
    "print('Area of the rectangle is:',lenght*width,'SQF.')\n"
   ]
  },
  {
   "cell_type": "markdown",
   "id": "00b80a57-e113-42dc-a9ed-3113fcc97bbe",
   "metadata": {
    "jp-MarkdownHeadingCollapsed": true
   },
   "source": [
    "## Write a program that converts temperature from Fahrenheit to Celsius."
   ]
  },
  {
   "cell_type": "code",
   "execution_count": 3,
   "id": "82911160-8815-4d92-ac1d-85144c6c61b8",
   "metadata": {},
   "outputs": [
    {
     "name": "stdin",
     "output_type": "stream",
     "text": [
      "Enter the value of Fahrenheit: 20\n"
     ]
    },
    {
     "name": "stdout",
     "output_type": "stream",
     "text": [
      "20 degree Fahrenheit = -6.67 degree Celcious\n"
     ]
    }
   ],
   "source": [
    "far=int(input('Enter the value of Fahrenheit:'))\n",
    "far_to_cel=(far-32)*5/9\n",
    "reduced_value = round(far_to_cel, 2)\n",
    "print(far,'degree Fahrenheit =',reduced_value,'degree Celcious')"
   ]
  },
  {
   "cell_type": "markdown",
   "id": "298972c2-4c7d-419f-9eed-43bab05d2a09",
   "metadata": {
    "jp-MarkdownHeadingCollapsed": true
   },
   "source": [
    "## Write a program that calculates the volume of a sphere given its radius."
   ]
  },
  {
   "cell_type": "code",
   "execution_count": 4,
   "id": "79d594c4-5513-42e9-9312-a3ffdc8e19f0",
   "metadata": {},
   "outputs": [
    {
     "name": "stdin",
     "output_type": "stream",
     "text": [
      "Input the value of radius the shape:  30\n"
     ]
    },
    {
     "name": "stdout",
     "output_type": "stream",
     "text": [
      "volume of the shape is: 113097.336\n"
     ]
    }
   ],
   "source": [
    "import math\n",
    "pi=math.pi\n",
    "rad=int(input('Input the value of radius the shape: '))\n",
    "vol=4/3*pi*rad**3\n",
    "red_vol= round(vol,3)\n",
    "print('volume of the shape is:', red_vol)"
   ]
  },
  {
   "cell_type": "markdown",
   "id": "5df4c534-af3b-429d-9899-c02ad9c06dbd",
   "metadata": {
    "jp-MarkdownHeadingCollapsed": true
   },
   "source": [
    "## Write a program that finds the average of three numbers."
   ]
  },
  {
   "cell_type": "code",
   "execution_count": null,
   "id": "4eb8b305-7a9b-4d36-8baa-0fd1ab3e4ec6",
   "metadata": {},
   "outputs": [],
   "source": [
    "num_1=int(input('Input vale of 1st number: '))\n",
    "num_2=int(input('Input vale of 2nd number: '))\n",
    "num_3=int(input('Input vale of 3rd number: '))\n",
    "#Average\n",
    "avg=(num_1+num_2+num_3)/3\n",
    "reduced_avg=round(avg, 2)\n",
    "print(reduced_avg)"
   ]
  }
 ],
 "metadata": {
  "kernelspec": {
   "display_name": "Python 3 (ipykernel)",
   "language": "python",
   "name": "python3"
  },
  "language_info": {
   "codemirror_mode": {
    "name": "ipython",
    "version": 3
   },
   "file_extension": ".py",
   "mimetype": "text/x-python",
   "name": "python",
   "nbconvert_exporter": "python",
   "pygments_lexer": "ipython3",
   "version": "3.12.5"
  }
 },
 "nbformat": 4,
 "nbformat_minor": 5
}
