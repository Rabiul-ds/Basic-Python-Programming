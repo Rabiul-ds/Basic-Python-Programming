{
 "cells": [
  {
   "cell_type": "markdown",
   "id": "2059e970-0c0c-43bb-aac2-d157f0981d71",
   "metadata": {},
   "source": [
    "##Write a program that finds the sum of all even numbers between 1 and `n`."
   ]
  },
  {
   "cell_type": "code",
   "execution_count": null,
   "id": "27a2f605-380a-4cb7-b1ee-3db30319857b",
   "metadata": {},
   "outputs": [],
   "source": [
    "num=int(input('Enter a number: '))\n",
    "sum=0\n",
    "for i in range (2, num+1, 2):\n",
    "    sum=sum+i\n",
    "print(sum)"
   ]
  },
  {
   "cell_type": "markdown",
   "id": "0c83e90b-a689-4ad4-a18c-58ace31d468d",
   "metadata": {},
   "source": [
    "##Write a program that reverses a given number."
   ]
  },
  {
   "cell_type": "code",
   "execution_count": null,
   "id": "7d12aa39-c076-4223-a213-c34efda8ce75",
   "metadata": {},
   "outputs": [],
   "source": [
    "num = int(input(\"Enter a number: \"))\n",
    "while num>0:\n",
    "    rem=num%10\n",
    "    print(rem, end=\"\")\n",
    "    num=num//10\n",
    "    \n",
    "    "
   ]
  },
  {
   "cell_type": "markdown",
   "id": "4f88f125-41f8-403e-a910-577db4f114e0",
   "metadata": {},
   "source": [
    "##Write a program that checks if a given string, is a palindrome."
   ]
  },
  {
   "cell_type": "code",
   "execution_count": 36,
   "id": "849b76a4-1008-482d-bdb1-bf5ead6ff927",
   "metadata": {},
   "outputs": [
    {
     "name": "stdin",
     "output_type": "stream",
     "text": [
      "Enter a string ABAC\n"
     ]
    },
    {
     "name": "stdout",
     "output_type": "stream",
     "text": [
      "not a palindrome\n"
     ]
    }
   ],
   "source": [
    "ori_str=input('Enter a string')\n",
    "con_case= ori_str.lower().replace(' ', '')\n",
    "if con_case==con_case[::-1]:\n",
    "    print('Palindrome')\n",
    "else:\n",
    "    print('not a palindrome')"
   ]
  },
  {
   "cell_type": "markdown",
   "id": "8b8e4597-8b6d-40f2-b4d9-aed792089c7a",
   "metadata": {},
   "source": [
    "##Write a program that generates a random number and allows the user to guess it."
   ]
  },
  {
   "cell_type": "code",
   "execution_count": 17,
   "id": "49c4ff45-38e0-4edf-9596-ee75be465b0f",
   "metadata": {},
   "outputs": [
    {
     "name": "stdin",
     "output_type": "stream",
     "text": [
      "Guess the number 50\n"
     ]
    },
    {
     "name": "stdout",
     "output_type": "stream",
     "text": [
      "It is lower tahn the random generated number\n"
     ]
    },
    {
     "name": "stdin",
     "output_type": "stream",
     "text": [
      "Guess the number 30\n"
     ]
    },
    {
     "name": "stdout",
     "output_type": "stream",
     "text": [
      "It is lower tahn the random generated number\n"
     ]
    },
    {
     "name": "stdin",
     "output_type": "stream",
     "text": [
      "Guess the number 50\n"
     ]
    },
    {
     "name": "stdout",
     "output_type": "stream",
     "text": [
      "It is lower tahn the random generated number\n"
     ]
    },
    {
     "name": "stdin",
     "output_type": "stream",
     "text": [
      "Guess the number 80\n"
     ]
    },
    {
     "name": "stdout",
     "output_type": "stream",
     "text": [
      "It is higher tahn the random generated number\n"
     ]
    },
    {
     "name": "stdin",
     "output_type": "stream",
     "text": [
      "Guess the number 70\n"
     ]
    },
    {
     "name": "stdout",
     "output_type": "stream",
     "text": [
      "It is lower tahn the random generated number\n"
     ]
    },
    {
     "name": "stdin",
     "output_type": "stream",
     "text": [
      "Guess the number 75\n"
     ]
    },
    {
     "name": "stdout",
     "output_type": "stream",
     "text": [
      "It is lower tahn the random generated number\n"
     ]
    },
    {
     "name": "stdin",
     "output_type": "stream",
     "text": [
      "Guess the number 78\n"
     ]
    },
    {
     "name": "stdout",
     "output_type": "stream",
     "text": [
      "Your guess is correct!\n"
     ]
    }
   ],
   "source": [
    "import random\n",
    "random_number = random.randint (1, 100)\n",
    "\n",
    "guess=int(input('Guess the number'))\n",
    "\n",
    "while guess!= random_number:\n",
    "    if guess>random_number:\n",
    "        print('It is higher tahn the random generated number')\n",
    "    elif guess<random_number:\n",
    "        print('It is lower tahn the random generated number')\n",
    "   \n",
    "    guess=int(input('Guess the number'))\n",
    "        \n",
    "print('Your guess is correct!')\n",
    "        "
   ]
  },
  {
   "cell_type": "markdown",
   "id": "605fc005-7105-4e96-84d3-17287f35ce2f",
   "metadata": {},
   "source": [
    "##Write a program that finds the greatest common divisor (GCD) of two numbers."
   ]
  },
  {
   "cell_type": "code",
   "execution_count": 23,
   "id": "d6815f52-7bae-4ad5-9b67-3ed3b7ee5879",
   "metadata": {},
   "outputs": [
    {
     "name": "stdin",
     "output_type": "stream",
     "text": [
      "Enter the first number:  20\n",
      "Enter the second number:  20\n"
     ]
    }
   ],
   "source": [
    "num_1 = int(input('Enter the first number: '))\n",
    "num_2 = int(input('Enter the second number: '))\n",
    "div_1=()\n",
    "    ## divisors of num_1\n",
    "for i in range(1, num_1):\n",
    "    while num_1/i==0:\n",
    "        div_1=()\n",
    "    \n"
   ]
  },
  {
   "cell_type": "code",
   "execution_count": 25,
   "id": "6b42175e-7552-478a-a0de-c91eae12c348",
   "metadata": {},
   "outputs": [
    {
     "name": "stdin",
     "output_type": "stream",
     "text": [
      "Enter the first number:  50\n",
      "Enter the second number:  30\n"
     ]
    },
    {
     "name": "stdout",
     "output_type": "stream",
     "text": [
      "The GCD of 50 and 30 is 10.\n"
     ]
    }
   ],
   "source": [
    "def find_gcd(a, b):\n",
    "    while b:\n",
    "        a, b = b, a % b\n",
    "    return a\n",
    "    \n",
    "num_1 = int(input(\"Enter the first number: \"))\n",
    "num_2 = int(input(\"Enter the second number: \"))\n",
    "\n",
    "gcd = find_gcd(num1, num2)\n",
    "print(f\"The GCD of {num_1} and {num_2} is {gcd}.\")\n"
   ]
  },
  {
   "cell_type": "code",
   "execution_count": null,
   "id": "b46db415-ec5d-4983-b69e-56e26824517f",
   "metadata": {},
   "outputs": [],
   "source": []
  }
 ],
 "metadata": {
  "kernelspec": {
   "display_name": "Python 3 (ipykernel)",
   "language": "python",
   "name": "python3"
  },
  "language_info": {
   "codemirror_mode": {
    "name": "ipython",
    "version": 3
   },
   "file_extension": ".py",
   "mimetype": "text/x-python",
   "name": "python",
   "nbconvert_exporter": "python",
   "pygments_lexer": "ipython3",
   "version": "3.12.5"
  }
 },
 "nbformat": 4,
 "nbformat_minor": 5
}
